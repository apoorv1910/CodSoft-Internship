{
  "cells": [
    {
      "cell_type": "code",
      "source": [
        "import numpy as np\n",
        "import pandas as pd\n",
        "from sklearn.metrics.pairwise import cosine_similarity\n",
        "from sklearn.feature_extraction.text import TfidfVectorizer"
      ],
      "metadata": {
        "id": "DNoiHJGNtPhn"
      },
      "execution_count": null,
      "outputs": []
    },
    {
      "cell_type": "code",
      "execution_count": null,
      "metadata": {
        "id": "h3RLTUZ1292i"
      },
      "outputs": [],
      "source": [
        "class MovieRecommender:\n",
        "    def __init__(self):\n",
        "\n",
        "        # Initialize the recommender with empty dictionaries and matrices\n",
        "        self.movies = {}\n",
        "        self.genre_matrix = None\n",
        "        self.similarity_matrix = None\n",
        "        self.user_item_matrix = None\n",
        "        self.user_similarity_matrix = None\n",
        "        self.movie_index = None\n",
        "        self.user_index = None\n",
        "\n",
        "    def add_movie(self, movie_id, title, genres):\n",
        "\n",
        "        # Add a movie to the movies dictionary with its title and genres\n",
        "        self.movies[movie_id] = {'title': title, 'genres': genres}\n",
        "\n",
        "    def add_ratings(self, ratings):\n",
        "\n",
        "        # Add user ratings and create the user-item matrix\n",
        "        self.ratings = ratings\n",
        "        self.user_item_matrix = ratings.pivot_table(index='userId', columns='movieId', values='rating').fillna(0)\n",
        "        self.movie_index = {movie_id: i for i, movie_id in enumerate(self.user_item_matrix.columns)}\n",
        "        self.user_index = {user_id: i for i, user_id in enumerate(self.user_item_matrix.index)}\n",
        "\n",
        "    def build_genre_matrix(self):\n",
        "\n",
        "        # Build a genre matrix where each movie is represented by its genres\n",
        "        all_genres = sorted(list(set(genre for movie in self.movies.values() for genre in movie['genres'])))\n",
        "        self.genre_matrix = np.zeros((len(self.movies), len(all_genres)))\n",
        "\n",
        "        for i, (movie_id, movie) in enumerate(self.movies.items()):\n",
        "            for genre in movie['genres']:\n",
        "                j = all_genres.index(genre)\n",
        "                self.genre_matrix[i, j] = 1\n",
        "\n",
        "        # Calculate the similarity matrix using cosine similarity between genre vectors\n",
        "        self.similarity_matrix = cosine_similarity(self.genre_matrix)\n",
        "\n",
        "    def calculate_user_similarity(self):\n",
        "\n",
        "        # Calculate user similarity matrix using cosine similarity between user rating vectors\n",
        "        self.user_similarity_matrix = cosine_similarity(self.user_item_matrix)\n",
        "\n",
        "    def get_collaborative_recommendations(self, user_id, n=5):\n",
        "\n",
        "        # Provide collaborative filtering recommendations based on user similarity\n",
        "        if user_id not in self.user_index:\n",
        "            return []\n",
        "\n",
        "        user_index = self.user_index[user_id]\n",
        "        similar_users = list(enumerate(self.user_similarity_matrix[user_index]))\n",
        "        similar_users = sorted(similar_users, key=lambda x: x[1], reverse=True)\n",
        "\n",
        "        # Exclude the user itself and get top n similar users\n",
        "        similar_users = similar_users[1:n+1]\n",
        "\n",
        "        recommendations = pd.Series(dtype=float)\n",
        "        for i, score in similar_users:\n",
        "            similar_user_id = self.user_item_matrix.index[i]\n",
        "            similar_user_ratings = self.user_item_matrix.loc[similar_user_id]\n",
        "            similar_user_ratings = similar_user_ratings[similar_user_ratings > 0]\n",
        "            recommendations = pd.concat([recommendations, similar_user_ratings])\n",
        "\n",
        "        recommendations = recommendations.groupby(recommendations.index).mean().sort_values(ascending=False)\n",
        "        recommended_items = recommendations.index.difference(self.user_item_matrix.loc[user_id][self.user_item_matrix.loc[user_id] > 0].index)\n",
        "\n",
        "        return [(self.movies[movie_id]['title'], recommendations[movie_id]) for movie_id in recommended_items[:n]]\n",
        "\n",
        "    def get_content_based_recommendations(self, movie_id, n=5):\n",
        "\n",
        "        # Provide content-based recommendations based on movie genres\n",
        "        if movie_id not in self.movies:\n",
        "            return []\n",
        "\n",
        "        movie_index = list(self.movies.keys()).index(movie_id)\n",
        "        similar_movies = list(enumerate(self.similarity_matrix[movie_index]))\n",
        "        similar_movies = sorted(similar_movies, key=lambda x: x[1], reverse=True)\n",
        "\n",
        "        # Exclude the movie itself and get top n similar movies\n",
        "        similar_movies = similar_movies[1:n+1]\n",
        "\n",
        "        recommendations = [(self.movies[list(self.movies.keys())[i]]['title'], score) for i, score in similar_movies]\n",
        "        return recommendations\n",
        "\n",
        "    def build_combined_recommendations(self, user_id, n=5):\n",
        "\n",
        "        # Combine collaborative and content-based recommendations\n",
        "        collab_recs = self.get_collaborative_recommendations(user_id, n)\n",
        "        content_recs = []\n",
        "\n",
        "        for movie_title, _ in collab_recs:\n",
        "            movie_id = next((mid for mid, details in self.movies.items() if details['title'] == movie_title), None)\n",
        "            if movie_id:\n",
        "                content_recs.extend(self.get_content_based_recommendations(movie_id, n))\n",
        "\n",
        "        unique_recs = {title: score for title, score in content_recs}\n",
        "        combined_recs = sorted(unique_recs.items(), key=lambda x: x[1], reverse=True)\n",
        "\n",
        "        return combined_recs[:n]"
      ]
    },
    {
      "cell_type": "code",
      "source": [
        "recommender = MovieRecommender()"
      ],
      "metadata": {
        "id": "mwa7Jte2tcxR"
      },
      "execution_count": null,
      "outputs": []
    },
    {
      "cell_type": "code",
      "source": [
        "recommender.add_movie(1, \"The Shawshank Redemption\", [\"Drama\"])\n",
        "recommender.add_movie(2, \"The Godfather\", [\"Crime\", \"Drama\"])\n",
        "recommender.add_movie(3, \"The Dark Knight\", [\"Action\", \"Crime\", \"Drama\"])\n",
        "recommender.add_movie(4, \"Pulp Fiction\", [\"Crime\", \"Drama\"])\n",
        "recommender.add_movie(5, \"Fight Club\", [\"Drama\"])\n",
        "recommender.add_movie(6, \"Inception\", [\"Action\", \"Adventure\", \"Sci-Fi\"])\n",
        "recommender.add_movie(7, \"The Matrix\", [\"Action\", \"Sci-Fi\"])\n",
        "recommender.add_movie(8, \"Goodfellas\", [\"Biography\", \"Crime\", \"Drama\"])\n",
        "recommender.add_movie(9, \"The Silence of the Lambs\", [\"Crime\", \"Drama\", \"Thriller\"])\n",
        "recommender.add_movie(10, \"Star Wars: Episode IV - A New Hope\", [\"Action\", \"Adventure\", \"Fantasy\"])"
      ],
      "metadata": {
        "id": "-SwvBmBatfCd"
      },
      "execution_count": null,
      "outputs": []
    },
    {
      "cell_type": "code",
      "source": [
        "ratings_data = {'userId': [1, 1, 1, 2, 2, 2, 3, 3, 3],\n",
        "                'movieId': [1, 2, 3, 1, 4, 5, 6, 7, 8],\n",
        "                'rating': [5, 4, 3, 5, 4, 4, 5, 4, 4]}\n",
        "\n",
        "ratings = pd.DataFrame(ratings_data)\n",
        "\n",
        "recommender.add_ratings(ratings)"
      ],
      "metadata": {
        "id": "SEMyfEbatjhy"
      },
      "execution_count": null,
      "outputs": []
    },
    {
      "cell_type": "code",
      "source": [
        "recommender.build_genre_matrix()"
      ],
      "metadata": {
        "id": "xRYH6pNOtnya"
      },
      "execution_count": null,
      "outputs": []
    },
    {
      "cell_type": "code",
      "source": [
        "recommender.calculate_user_similarity()"
      ],
      "metadata": {
        "id": "6a7lyeMrttK7"
      },
      "execution_count": null,
      "outputs": []
    },
    {
      "cell_type": "code",
      "source": [
        "user_id = 1\n",
        "collab_recommendations = recommender.get_collaborative_recommendations(user_id)\n",
        "print(f\"Collaborative Recommendations for User {user_id}:\")\n",
        "for title, score in collab_recommendations:\n",
        "    print(f\"- {title} (Score: {score:.2f})\")"
      ],
      "metadata": {
        "colab": {
          "base_uri": "https://localhost:8080/"
        },
        "id": "_DITJF62g_tW",
        "outputId": "4e6ea2b9-792e-4419-9bfb-42fcff35ce16"
      },
      "execution_count": null,
      "outputs": [
        {
          "output_type": "stream",
          "name": "stdout",
          "text": [
            "Collaborative Recommendations for User 1:\n",
            "- Pulp Fiction (Score: 4.00)\n",
            "- Fight Club (Score: 4.00)\n",
            "- Inception (Score: 5.00)\n",
            "- The Matrix (Score: 4.00)\n",
            "- Goodfellas (Score: 4.00)\n"
          ]
        }
      ]
    },
    {
      "cell_type": "markdown",
      "source": [
        "Get content-based recommendations for a movie\n"
      ],
      "metadata": {
        "id": "HBoKujD6hFua"
      }
    },
    {
      "cell_type": "code",
      "source": [
        "# The Dark Knight\n",
        "movie_id = 3\n",
        "content_recommendations = recommender.get_content_based_recommendations(movie_id)\n",
        "print(f\"\\nContent-Based Recommendations for '{recommender.movies[movie_id]['title']}':\")\n",
        "for title, score in content_recommendations:\n",
        "    print(f\"- {title} (Similarity: {score:.2f})\")"
      ],
      "metadata": {
        "colab": {
          "base_uri": "https://localhost:8080/"
        },
        "id": "kmzYyON2hKZJ",
        "outputId": "3ed671cf-07f3-4075-94e9-24c72ac83f59"
      },
      "execution_count": null,
      "outputs": [
        {
          "output_type": "stream",
          "name": "stdout",
          "text": [
            "\n",
            "Content-Based Recommendations for 'The Dark Knight':\n",
            "- The Godfather (Similarity: 0.82)\n",
            "- Pulp Fiction (Similarity: 0.82)\n",
            "- Goodfellas (Similarity: 0.67)\n",
            "- The Silence of the Lambs (Similarity: 0.67)\n",
            "- The Shawshank Redemption (Similarity: 0.58)\n"
          ]
        }
      ]
    },
    {
      "cell_type": "markdown",
      "source": [
        "Get combined recommendations for a user"
      ],
      "metadata": {
        "id": "IF3zej2whUJK"
      }
    },
    {
      "cell_type": "code",
      "source": [
        "combined_recommendations = recommender.build_combined_recommendations(user_id)\n",
        "print(f\"\\nCombined Recommendations for User {user_id}:\")\n",
        "for title, score in combined_recommendations:\n",
        "    print(f\"- {title} (Score: {score:.2f})\")"
      ],
      "metadata": {
        "colab": {
          "base_uri": "https://localhost:8080/"
        },
        "id": "YZiIbp8RhPCN",
        "outputId": "e0b9ca30-c16e-4b4a-bb86-b4916b508e20"
      },
      "execution_count": null,
      "outputs": [
        {
          "output_type": "stream",
          "name": "stdout",
          "text": [
            "\n",
            "Combined Recommendations for User 1:\n",
            "- Fight Club (Score: 1.00)\n",
            "- Pulp Fiction (Score: 0.82)\n",
            "- The Godfather (Score: 0.82)\n",
            "- The Matrix (Score: 0.82)\n",
            "- Inception (Score: 0.82)\n"
          ]
        }
      ]
    }
  ],
  "metadata": {
    "colab": {
      "provenance": []
    },
    "kernelspec": {
      "display_name": "Python 3",
      "name": "python3"
    },
    "language_info": {
      "name": "python"
    }
  },
  "nbformat": 4,
  "nbformat_minor": 0
}